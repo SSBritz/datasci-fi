{
  "nbformat": 4,
  "nbformat_minor": 0,
  "metadata": {
    "kernelspec": {
      "display_name": "R",
      "language": "R",
      "name": "ir"
    },
    "language_info": {
      "codemirror_mode": "r",
      "file_extension": ".r",
      "mimetype": "text/x-r-source",
      "name": "R",
      "pygments_lexer": "r",
      "version": "3.2.3"
    },
    "colab": {
      "name": "UCT2019-EmbeddingRecommendation_R.ipynb",
      "version": "0.3.2",
      "provenance": [],
      "collapsed_sections": []
    }
  },
  "cells": [
    {
      "cell_type": "markdown",
      "metadata": {
        "id": "Rob3xS9JBxXR",
        "colab_type": "text"
      },
      "source": [
        "***Dr. Emmanuel Dufourq*** www.emmanueldufourq.com\n",
        "\n",
        "***African Institute for Mathematical Sciences***\n",
        "\n",
        "***2019***\n",
        "\n",
        "\n",
        "Credits: This notebook is an extension of the one provided by Prof. Ian Durbach (https://github.com/iandurbach/) link to notebook: https://github.com/iandurbach/datasci-fi/blob/921f19903c20db3b3a957da5ec80d78988a29376/lesson6-more-nns.ipynb\n",
        "\n",
        "***NOTE***\n",
        "\n",
        "Be sure to use hardware acceleration to use the GPU. Click on `Runtime`, change `runtime type`, and select `GPU` for the *hardware accelerator* option.\n",
        "\n",
        "\n"
      ]
    },
    {
      "cell_type": "markdown",
      "metadata": {
        "id": "Vp2cB6ZjByfP",
        "colab_type": "text"
      },
      "source": [
        "In this example we build a recommender system for the full \"small\" MovieLens dataset. Previously we saw how to use matrix decomposition to represent each movie and each user as a vector of latent variables. Here we use neural networks to learn the \"weights\" in these latent factors."
      ]
    },
    {
      "cell_type": "code",
      "metadata": {
        "id": "4MRXpAKbD9sa",
        "colab_type": "code",
        "colab": {
          "base_uri": "https://localhost:8080/",
          "height": 864
        },
        "outputId": "db28feb1-59b8-4437-ae13-1af55379a755"
      },
      "source": [
        "devtools::install_github(\"rstudio/keras\")"
      ],
      "execution_count": 2,
      "outputs": [
        {
          "output_type": "stream",
          "text": [
            "Downloading GitHub repo rstudio/keras@master\n"
          ],
          "name": "stderr"
        },
        {
          "output_type": "stream",
          "text": [
            "reticulate (NA -> 96421b5c6...) [GitHub]\n",
            "tensorflow (NA -> 07d9bd539...) [GitHub]\n",
            "tfruns     (NA -> 1.4         ) [CRAN]\n",
            "config     (NA -> 0.3         ) [CRAN]\n"
          ],
          "name": "stdout"
        },
        {
          "output_type": "stream",
          "text": [
            "Downloading GitHub repo rstudio/reticulate@master\n"
          ],
          "name": "stderr"
        },
        {
          "output_type": "stream",
          "text": [
            "\n",
            "\u001b[32m✔\u001b[39m  \u001b[90mchecking for file ‘/tmp/RtmpkhHpVX/remotes822045c049/rstudio-reticulate-96421b5/DESCRIPTION’\u001b[39m\u001b[36m\u001b[39m\n",
            "\u001b[90m─\u001b[39m\u001b[90m  \u001b[39m\u001b[90mpreparing ‘reticulate’:\u001b[39m\u001b[36m\u001b[39m\n",
            "\u001b[32m✔\u001b[39m  \u001b[90mchecking DESCRIPTION meta-information\u001b[39m\u001b[36m\u001b[39m\n",
            "\u001b[90m─\u001b[39m\u001b[90m  \u001b[39m\u001b[90mcleaning src\u001b[39m\u001b[36m\u001b[39m\n",
            "\u001b[90m─\u001b[39m\u001b[90m  \u001b[39m\u001b[90mchecking for LF line-endings in source and make files and shell scripts\u001b[39m\u001b[36m\u001b[39m\n",
            "\u001b[90m─\u001b[39m\u001b[90m  \u001b[39m\u001b[90mchecking for empty or unneeded directories\u001b[39m\u001b[36m\u001b[39m\n",
            "\u001b[90m─\u001b[39m\u001b[90m  \u001b[39m\u001b[90mbuilding ‘reticulate_1.13.0-9000.tar.gz’\u001b[39m\u001b[36m\u001b[39m\n",
            "   \n"
          ],
          "name": "stdout"
        },
        {
          "output_type": "stream",
          "text": [
            "Installing package into ‘/usr/local/lib/R/site-library’\n",
            "(as ‘lib’ is unspecified)\n",
            "Downloading GitHub repo rstudio/tensorflow@master\n"
          ],
          "name": "stderr"
        },
        {
          "output_type": "stream",
          "text": [
            "config (NA -> 0.3) [CRAN]\n",
            "tfruns (NA -> 1.4) [CRAN]\n"
          ],
          "name": "stdout"
        },
        {
          "output_type": "stream",
          "text": [
            "Installing 2 packages: config, tfruns\n",
            "Installing packages into ‘/usr/local/lib/R/site-library’\n",
            "(as ‘lib’ is unspecified)\n"
          ],
          "name": "stderr"
        },
        {
          "output_type": "stream",
          "text": [
            "\u001b[32m✔\u001b[39m  \u001b[90mchecking for file ‘/tmp/RtmpkhHpVX/remotes822a3e54fe/rstudio-tensorflow-07d9bd5/DESCRIPTION’\u001b[39m\u001b[36m\u001b[39m\n",
            "\u001b[90m─\u001b[39m\u001b[90m  \u001b[39m\u001b[90mpreparing ‘tensorflow’:\u001b[39m\u001b[36m\u001b[39m\n",
            "\u001b[32m✔\u001b[39m  \u001b[90mchecking DESCRIPTION meta-information\u001b[39m\u001b[36m\u001b[39m\n",
            "\u001b[90m─\u001b[39m\u001b[90m  \u001b[39m\u001b[90mchecking for LF line-endings in source and make files and shell scripts\u001b[39m\u001b[36m\u001b[39m\n",
            "\u001b[90m─\u001b[39m\u001b[90m  \u001b[39m\u001b[90mchecking for empty or unneeded directories\u001b[39m\u001b[36m\u001b[39m\n",
            "\u001b[90m─\u001b[39m\u001b[90m  \u001b[39m\u001b[90mbuilding ‘tensorflow_1.14.0.9000.tar.gz’\u001b[39m\u001b[36m\u001b[39m\n",
            "   \n"
          ],
          "name": "stdout"
        },
        {
          "output_type": "stream",
          "text": [
            "Installing package into ‘/usr/local/lib/R/site-library’\n",
            "(as ‘lib’ is unspecified)\n",
            "Installing 2 packages: tfruns, config\n",
            "Installing packages into ‘/usr/local/lib/R/site-library’\n",
            "(as ‘lib’ is unspecified)\n",
            "Skipping install of 'reticulate' from a github remote, the SHA1 (96421b5c) has not changed since last install.\n",
            "  Use `force = TRUE` to force installation\n",
            "Skipping install of 'tensorflow' from a github remote, the SHA1 (07d9bd53) has not changed since last install.\n",
            "  Use `force = TRUE` to force installation\n"
          ],
          "name": "stderr"
        },
        {
          "output_type": "stream",
          "text": [
            "\u001b[32m✔\u001b[39m  \u001b[90mchecking for file ‘/tmp/RtmpkhHpVX/remotes822d897ddd/rstudio-keras-8758aae/DESCRIPTION’\u001b[39m\u001b[36m\u001b[39m\n",
            "\u001b[90m─\u001b[39m\u001b[90m  \u001b[39m\u001b[90mpreparing ‘keras’:\u001b[39m\u001b[36m\u001b[39m\n",
            "\u001b[32m✔\u001b[39m  \u001b[90mchecking DESCRIPTION meta-information\u001b[39m\u001b[36m\u001b[39m\n",
            "\u001b[90m─\u001b[39m\u001b[90m  \u001b[39m\u001b[90mchecking for LF line-endings in source and make files and shell scripts\u001b[39m\u001b[36m\u001b[36m (485ms)\u001b[36m\u001b[39m\n",
            "\u001b[90m─\u001b[39m\u001b[90m  \u001b[39m\u001b[90mchecking for empty or unneeded directories\u001b[39m\u001b[36m\u001b[39m\n",
            "   Removed empty directory ‘keras/man-roxygen’\n",
            "\u001b[90m─\u001b[39m\u001b[90m  \u001b[39m\u001b[90mbuilding ‘keras_2.2.4.1.9001.tar.gz’\u001b[39m\u001b[36m\u001b[39m\n",
            "   \n"
          ],
          "name": "stdout"
        },
        {
          "output_type": "stream",
          "text": [
            "Installing package into ‘/usr/local/lib/R/site-library’\n",
            "(as ‘lib’ is unspecified)\n"
          ],
          "name": "stderr"
        }
      ]
    },
    {
      "cell_type": "code",
      "metadata": {
        "id": "2Sk_8VZSBo9p",
        "colab_type": "code",
        "colab": {
          "base_uri": "https://localhost:8080/",
          "height": 155
        },
        "outputId": "b2ca76d7-dcc4-47fd-f5c0-623465a2f804"
      },
      "source": [
        "library(tidyverse)\n",
        "library(keras)"
      ],
      "execution_count": 3,
      "outputs": [
        {
          "output_type": "stream",
          "text": [
            "── \u001b[1mAttaching packages\u001b[22m ─────────────────────────────────────── tidyverse 1.2.1 ──\n",
            "\u001b[32m✔\u001b[39m \u001b[34mggplot2\u001b[39m 3.2.0     \u001b[32m✔\u001b[39m \u001b[34mpurrr  \u001b[39m 0.3.2\n",
            "\u001b[32m✔\u001b[39m \u001b[34mtibble \u001b[39m 2.1.3     \u001b[32m✔\u001b[39m \u001b[34mdplyr  \u001b[39m 0.8.3\n",
            "\u001b[32m✔\u001b[39m \u001b[34mtidyr  \u001b[39m 0.8.3     \u001b[32m✔\u001b[39m \u001b[34mstringr\u001b[39m 1.4.0\n",
            "\u001b[32m✔\u001b[39m \u001b[34mreadr  \u001b[39m 1.3.1     \u001b[32m✔\u001b[39m \u001b[34mforcats\u001b[39m 0.4.0\n",
            "── \u001b[1mConflicts\u001b[22m ────────────────────────────────────────── tidyverse_conflicts() ──\n",
            "\u001b[31m✖\u001b[39m \u001b[34mdplyr\u001b[39m::\u001b[32mfilter()\u001b[39m masks \u001b[34mstats\u001b[39m::filter()\n",
            "\u001b[31m✖\u001b[39m \u001b[34mdplyr\u001b[39m::\u001b[32mlag()\u001b[39m    masks \u001b[34mstats\u001b[39m::lag()\n"
          ],
          "name": "stderr"
        }
      ]
    },
    {
      "cell_type": "markdown",
      "metadata": {
        "id": "F5NMrQgjUzJ-",
        "colab_type": "text"
      },
      "source": [
        "### Load the data"
      ]
    },
    {
      "cell_type": "code",
      "metadata": {
        "id": "uCNxMTE8D1gA",
        "colab_type": "code",
        "colab": {}
      },
      "source": [
        "load(url(\"https://github.com/iandurbach/datasci-fi/raw/master/data/movielens-small.RData\"))"
      ],
      "execution_count": 0,
      "outputs": []
    },
    {
      "cell_type": "markdown",
      "metadata": {
        "id": "6nCCGAPhaizk",
        "colab_type": "text"
      },
      "source": [
        "### Look at what is available"
      ]
    },
    {
      "cell_type": "code",
      "metadata": {
        "id": "NNhToiwaEVYD",
        "colab_type": "code",
        "colab": {
          "base_uri": "https://localhost:8080/",
          "height": 114
        },
        "outputId": "3176cd92-89ff-4ff0-c6e8-78527b7eb6e6"
      },
      "source": [
        "ls()"
      ],
      "execution_count": 6,
      "outputs": [
        {
          "output_type": "display_data",
          "data": {
            "text/plain": [
              "[1] \"links\"   \"movies\"  \"ratings\" \"tags\"   "
            ],
            "text/latex": "\\begin{enumerate*}\n\\item 'links'\n\\item 'movies'\n\\item 'ratings'\n\\item 'tags'\n\\end{enumerate*}\n",
            "text/markdown": "1. 'links'\n2. 'movies'\n3. 'ratings'\n4. 'tags'\n\n\n",
            "text/html": [
              "<ol class=list-inline>\n",
              "\t<li>'links'</li>\n",
              "\t<li>'movies'</li>\n",
              "\t<li>'ratings'</li>\n",
              "\t<li>'tags'</li>\n",
              "</ol>\n"
            ]
          },
          "metadata": {
            "tags": []
          }
        }
      ]
    },
    {
      "cell_type": "markdown",
      "metadata": {
        "id": "M-Az0UxeU1Wd",
        "colab_type": "text"
      },
      "source": [
        "### Check the \"ratings\" data"
      ]
    },
    {
      "cell_type": "code",
      "metadata": {
        "id": "0ls7It7gFMX6",
        "colab_type": "code",
        "colab": {
          "base_uri": "https://localhost:8080/",
          "height": 1000
        },
        "outputId": "8232de43-5eb1-437b-9dc1-3246f99b3643"
      },
      "source": [
        "ratings"
      ],
      "execution_count": 7,
      "outputs": [
        {
          "output_type": "display_data",
          "data": {
            "text/plain": [
              "       userId movieId rating timestamp \n",
              "1      1        31    2.5    1260759144\n",
              "2      1      1029    3.0    1260759179\n",
              "3      1      1061    3.0    1260759182\n",
              "4      1      1129    2.0    1260759185\n",
              "5      1      1172    4.0    1260759205\n",
              "6      1      1263    2.0    1260759151\n",
              "7      1      1287    2.0    1260759187\n",
              "8      1      1293    2.0    1260759148\n",
              "9      1      1339    3.5    1260759125\n",
              "10     1      1343    2.0    1260759131\n",
              "11     1      1371    2.5    1260759135\n",
              "12     1      1405    1.0    1260759203\n",
              "13     1      1953    4.0    1260759191\n",
              "14     1      2105    4.0    1260759139\n",
              "15     1      2150    3.0    1260759194\n",
              "16     1      2193    2.0    1260759198\n",
              "17     1      2294    2.0    1260759108\n",
              "18     1      2455    2.5    1260759113\n",
              "19     1      2968    1.0    1260759200\n",
              "20     1      3671    3.0    1260759117\n",
              "21     2        10    4.0     835355493\n",
              "22     2        17    5.0     835355681\n",
              "23     2        39    5.0     835355604\n",
              "24     2        47    4.0     835355552\n",
              "25     2        50    4.0     835355586\n",
              "26     2        52    3.0     835356031\n",
              "27     2        62    3.0     835355749\n",
              "28     2       110    4.0     835355532\n",
              "29     2       144    3.0     835356016\n",
              "30     2       150    5.0     835355395\n",
              "⋮      ⋮      ⋮       ⋮      ⋮         \n",
              "99975  671    4034    4.5    1064245493\n",
              "99976  671    4306    5.0    1064245548\n",
              "99977  671    4308    3.5    1065111985\n",
              "99978  671    4880    4.0    1065111973\n",
              "99979  671    4886    5.0    1064245488\n",
              "99980  671    4896    5.0    1065111996\n",
              "99981  671    4963    4.5    1065111855\n",
              "99982  671    4973    4.5    1064245471\n",
              "99983  671    4993    5.0    1064245483\n",
              "99984  671    4995    4.0    1064891537\n",
              "99985  671    5010    2.0    1066793004\n",
              "99986  671    5218    2.0    1065111990\n",
              "99987  671    5299    3.0    1065112004\n",
              "99988  671    5349    4.0    1065111863\n",
              "99989  671    5377    4.0    1064245557\n",
              "99990  671    5445    4.5    1064891627\n",
              "99991  671    5464    3.0    1064891549\n",
              "99992  671    5669    4.0    1063502711\n",
              "99993  671    5816    4.0    1065111963\n",
              "99994  671    5902    3.5    1064245507\n",
              "99995  671    5952    5.0    1063502716\n",
              "99996  671    5989    4.0    1064890625\n",
              "99997  671    5991    4.5    1064245387\n",
              "99998  671    5995    4.0    1066793014\n",
              "99999  671    6212    2.5    1065149436\n",
              "100000 671    6268    2.5    1065579370\n",
              "100001 671    6269    4.0    1065149201\n",
              "100002 671    6365    4.0    1070940363\n",
              "100003 671    6385    2.5    1070979663\n",
              "100004 671    6565    3.5    1074784724"
            ],
            "text/latex": "A data.frame: 100004 × 4\n\\begin{tabular}{r|llll}\n userId & movieId & rating & timestamp\\\\\n <int> & <int> & <dbl> & <int>\\\\\n\\hline\n\t 1 &   31 & 2.5 & 1260759144\\\\\n\t 1 & 1029 & 3.0 & 1260759179\\\\\n\t 1 & 1061 & 3.0 & 1260759182\\\\\n\t 1 & 1129 & 2.0 & 1260759185\\\\\n\t 1 & 1172 & 4.0 & 1260759205\\\\\n\t 1 & 1263 & 2.0 & 1260759151\\\\\n\t 1 & 1287 & 2.0 & 1260759187\\\\\n\t 1 & 1293 & 2.0 & 1260759148\\\\\n\t 1 & 1339 & 3.5 & 1260759125\\\\\n\t 1 & 1343 & 2.0 & 1260759131\\\\\n\t 1 & 1371 & 2.5 & 1260759135\\\\\n\t 1 & 1405 & 1.0 & 1260759203\\\\\n\t 1 & 1953 & 4.0 & 1260759191\\\\\n\t 1 & 2105 & 4.0 & 1260759139\\\\\n\t 1 & 2150 & 3.0 & 1260759194\\\\\n\t 1 & 2193 & 2.0 & 1260759198\\\\\n\t 1 & 2294 & 2.0 & 1260759108\\\\\n\t 1 & 2455 & 2.5 & 1260759113\\\\\n\t 1 & 2968 & 1.0 & 1260759200\\\\\n\t 1 & 3671 & 3.0 & 1260759117\\\\\n\t 2 &   10 & 4.0 &  835355493\\\\\n\t 2 &   17 & 5.0 &  835355681\\\\\n\t 2 &   39 & 5.0 &  835355604\\\\\n\t 2 &   47 & 4.0 &  835355552\\\\\n\t 2 &   50 & 4.0 &  835355586\\\\\n\t 2 &   52 & 3.0 &  835356031\\\\\n\t 2 &   62 & 3.0 &  835355749\\\\\n\t 2 &  110 & 4.0 &  835355532\\\\\n\t 2 &  144 & 3.0 &  835356016\\\\\n\t 2 &  150 & 5.0 &  835355395\\\\\n\t ⋮ & ⋮ & ⋮ & ⋮\\\\\n\t 671 & 4034 & 4.5 & 1064245493\\\\\n\t 671 & 4306 & 5.0 & 1064245548\\\\\n\t 671 & 4308 & 3.5 & 1065111985\\\\\n\t 671 & 4880 & 4.0 & 1065111973\\\\\n\t 671 & 4886 & 5.0 & 1064245488\\\\\n\t 671 & 4896 & 5.0 & 1065111996\\\\\n\t 671 & 4963 & 4.5 & 1065111855\\\\\n\t 671 & 4973 & 4.5 & 1064245471\\\\\n\t 671 & 4993 & 5.0 & 1064245483\\\\\n\t 671 & 4995 & 4.0 & 1064891537\\\\\n\t 671 & 5010 & 2.0 & 1066793004\\\\\n\t 671 & 5218 & 2.0 & 1065111990\\\\\n\t 671 & 5299 & 3.0 & 1065112004\\\\\n\t 671 & 5349 & 4.0 & 1065111863\\\\\n\t 671 & 5377 & 4.0 & 1064245557\\\\\n\t 671 & 5445 & 4.5 & 1064891627\\\\\n\t 671 & 5464 & 3.0 & 1064891549\\\\\n\t 671 & 5669 & 4.0 & 1063502711\\\\\n\t 671 & 5816 & 4.0 & 1065111963\\\\\n\t 671 & 5902 & 3.5 & 1064245507\\\\\n\t 671 & 5952 & 5.0 & 1063502716\\\\\n\t 671 & 5989 & 4.0 & 1064890625\\\\\n\t 671 & 5991 & 4.5 & 1064245387\\\\\n\t 671 & 5995 & 4.0 & 1066793014\\\\\n\t 671 & 6212 & 2.5 & 1065149436\\\\\n\t 671 & 6268 & 2.5 & 1065579370\\\\\n\t 671 & 6269 & 4.0 & 1065149201\\\\\n\t 671 & 6365 & 4.0 & 1070940363\\\\\n\t 671 & 6385 & 2.5 & 1070979663\\\\\n\t 671 & 6565 & 3.5 & 1074784724\\\\\n\\end{tabular}\n",
            "text/markdown": "\nA data.frame: 100004 × 4\n\n| userId &lt;int&gt; | movieId &lt;int&gt; | rating &lt;dbl&gt; | timestamp &lt;int&gt; |\n|---|---|---|---|\n| 1 |   31 | 2.5 | 1260759144 |\n| 1 | 1029 | 3.0 | 1260759179 |\n| 1 | 1061 | 3.0 | 1260759182 |\n| 1 | 1129 | 2.0 | 1260759185 |\n| 1 | 1172 | 4.0 | 1260759205 |\n| 1 | 1263 | 2.0 | 1260759151 |\n| 1 | 1287 | 2.0 | 1260759187 |\n| 1 | 1293 | 2.0 | 1260759148 |\n| 1 | 1339 | 3.5 | 1260759125 |\n| 1 | 1343 | 2.0 | 1260759131 |\n| 1 | 1371 | 2.5 | 1260759135 |\n| 1 | 1405 | 1.0 | 1260759203 |\n| 1 | 1953 | 4.0 | 1260759191 |\n| 1 | 2105 | 4.0 | 1260759139 |\n| 1 | 2150 | 3.0 | 1260759194 |\n| 1 | 2193 | 2.0 | 1260759198 |\n| 1 | 2294 | 2.0 | 1260759108 |\n| 1 | 2455 | 2.5 | 1260759113 |\n| 1 | 2968 | 1.0 | 1260759200 |\n| 1 | 3671 | 3.0 | 1260759117 |\n| 2 |   10 | 4.0 |  835355493 |\n| 2 |   17 | 5.0 |  835355681 |\n| 2 |   39 | 5.0 |  835355604 |\n| 2 |   47 | 4.0 |  835355552 |\n| 2 |   50 | 4.0 |  835355586 |\n| 2 |   52 | 3.0 |  835356031 |\n| 2 |   62 | 3.0 |  835355749 |\n| 2 |  110 | 4.0 |  835355532 |\n| 2 |  144 | 3.0 |  835356016 |\n| 2 |  150 | 5.0 |  835355395 |\n| ⋮ | ⋮ | ⋮ | ⋮ |\n| 671 | 4034 | 4.5 | 1064245493 |\n| 671 | 4306 | 5.0 | 1064245548 |\n| 671 | 4308 | 3.5 | 1065111985 |\n| 671 | 4880 | 4.0 | 1065111973 |\n| 671 | 4886 | 5.0 | 1064245488 |\n| 671 | 4896 | 5.0 | 1065111996 |\n| 671 | 4963 | 4.5 | 1065111855 |\n| 671 | 4973 | 4.5 | 1064245471 |\n| 671 | 4993 | 5.0 | 1064245483 |\n| 671 | 4995 | 4.0 | 1064891537 |\n| 671 | 5010 | 2.0 | 1066793004 |\n| 671 | 5218 | 2.0 | 1065111990 |\n| 671 | 5299 | 3.0 | 1065112004 |\n| 671 | 5349 | 4.0 | 1065111863 |\n| 671 | 5377 | 4.0 | 1064245557 |\n| 671 | 5445 | 4.5 | 1064891627 |\n| 671 | 5464 | 3.0 | 1064891549 |\n| 671 | 5669 | 4.0 | 1063502711 |\n| 671 | 5816 | 4.0 | 1065111963 |\n| 671 | 5902 | 3.5 | 1064245507 |\n| 671 | 5952 | 5.0 | 1063502716 |\n| 671 | 5989 | 4.0 | 1064890625 |\n| 671 | 5991 | 4.5 | 1064245387 |\n| 671 | 5995 | 4.0 | 1066793014 |\n| 671 | 6212 | 2.5 | 1065149436 |\n| 671 | 6268 | 2.5 | 1065579370 |\n| 671 | 6269 | 4.0 | 1065149201 |\n| 671 | 6365 | 4.0 | 1070940363 |\n| 671 | 6385 | 2.5 | 1070979663 |\n| 671 | 6565 | 3.5 | 1074784724 |\n\n",
            "text/html": [
              "<table>\n",
              "<caption>A data.frame: 100004 × 4</caption>\n",
              "<thead>\n",
              "\t<tr><th scope=col>userId</th><th scope=col>movieId</th><th scope=col>rating</th><th scope=col>timestamp</th></tr>\n",
              "\t<tr><th scope=col>&lt;int&gt;</th><th scope=col>&lt;int&gt;</th><th scope=col>&lt;dbl&gt;</th><th scope=col>&lt;int&gt;</th></tr>\n",
              "</thead>\n",
              "<tbody>\n",
              "\t<tr><td>1</td><td>  31</td><td>2.5</td><td>1260759144</td></tr>\n",
              "\t<tr><td>1</td><td>1029</td><td>3.0</td><td>1260759179</td></tr>\n",
              "\t<tr><td>1</td><td>1061</td><td>3.0</td><td>1260759182</td></tr>\n",
              "\t<tr><td>1</td><td>1129</td><td>2.0</td><td>1260759185</td></tr>\n",
              "\t<tr><td>1</td><td>1172</td><td>4.0</td><td>1260759205</td></tr>\n",
              "\t<tr><td>1</td><td>1263</td><td>2.0</td><td>1260759151</td></tr>\n",
              "\t<tr><td>1</td><td>1287</td><td>2.0</td><td>1260759187</td></tr>\n",
              "\t<tr><td>1</td><td>1293</td><td>2.0</td><td>1260759148</td></tr>\n",
              "\t<tr><td>1</td><td>1339</td><td>3.5</td><td>1260759125</td></tr>\n",
              "\t<tr><td>1</td><td>1343</td><td>2.0</td><td>1260759131</td></tr>\n",
              "\t<tr><td>1</td><td>1371</td><td>2.5</td><td>1260759135</td></tr>\n",
              "\t<tr><td>1</td><td>1405</td><td>1.0</td><td>1260759203</td></tr>\n",
              "\t<tr><td>1</td><td>1953</td><td>4.0</td><td>1260759191</td></tr>\n",
              "\t<tr><td>1</td><td>2105</td><td>4.0</td><td>1260759139</td></tr>\n",
              "\t<tr><td>1</td><td>2150</td><td>3.0</td><td>1260759194</td></tr>\n",
              "\t<tr><td>1</td><td>2193</td><td>2.0</td><td>1260759198</td></tr>\n",
              "\t<tr><td>1</td><td>2294</td><td>2.0</td><td>1260759108</td></tr>\n",
              "\t<tr><td>1</td><td>2455</td><td>2.5</td><td>1260759113</td></tr>\n",
              "\t<tr><td>1</td><td>2968</td><td>1.0</td><td>1260759200</td></tr>\n",
              "\t<tr><td>1</td><td>3671</td><td>3.0</td><td>1260759117</td></tr>\n",
              "\t<tr><td>2</td><td>  10</td><td>4.0</td><td> 835355493</td></tr>\n",
              "\t<tr><td>2</td><td>  17</td><td>5.0</td><td> 835355681</td></tr>\n",
              "\t<tr><td>2</td><td>  39</td><td>5.0</td><td> 835355604</td></tr>\n",
              "\t<tr><td>2</td><td>  47</td><td>4.0</td><td> 835355552</td></tr>\n",
              "\t<tr><td>2</td><td>  50</td><td>4.0</td><td> 835355586</td></tr>\n",
              "\t<tr><td>2</td><td>  52</td><td>3.0</td><td> 835356031</td></tr>\n",
              "\t<tr><td>2</td><td>  62</td><td>3.0</td><td> 835355749</td></tr>\n",
              "\t<tr><td>2</td><td> 110</td><td>4.0</td><td> 835355532</td></tr>\n",
              "\t<tr><td>2</td><td> 144</td><td>3.0</td><td> 835356016</td></tr>\n",
              "\t<tr><td>2</td><td> 150</td><td>5.0</td><td> 835355395</td></tr>\n",
              "\t<tr><td>⋮</td><td>⋮</td><td>⋮</td><td>⋮</td></tr>\n",
              "\t<tr><td>671</td><td>4034</td><td>4.5</td><td>1064245493</td></tr>\n",
              "\t<tr><td>671</td><td>4306</td><td>5.0</td><td>1064245548</td></tr>\n",
              "\t<tr><td>671</td><td>4308</td><td>3.5</td><td>1065111985</td></tr>\n",
              "\t<tr><td>671</td><td>4880</td><td>4.0</td><td>1065111973</td></tr>\n",
              "\t<tr><td>671</td><td>4886</td><td>5.0</td><td>1064245488</td></tr>\n",
              "\t<tr><td>671</td><td>4896</td><td>5.0</td><td>1065111996</td></tr>\n",
              "\t<tr><td>671</td><td>4963</td><td>4.5</td><td>1065111855</td></tr>\n",
              "\t<tr><td>671</td><td>4973</td><td>4.5</td><td>1064245471</td></tr>\n",
              "\t<tr><td>671</td><td>4993</td><td>5.0</td><td>1064245483</td></tr>\n",
              "\t<tr><td>671</td><td>4995</td><td>4.0</td><td>1064891537</td></tr>\n",
              "\t<tr><td>671</td><td>5010</td><td>2.0</td><td>1066793004</td></tr>\n",
              "\t<tr><td>671</td><td>5218</td><td>2.0</td><td>1065111990</td></tr>\n",
              "\t<tr><td>671</td><td>5299</td><td>3.0</td><td>1065112004</td></tr>\n",
              "\t<tr><td>671</td><td>5349</td><td>4.0</td><td>1065111863</td></tr>\n",
              "\t<tr><td>671</td><td>5377</td><td>4.0</td><td>1064245557</td></tr>\n",
              "\t<tr><td>671</td><td>5445</td><td>4.5</td><td>1064891627</td></tr>\n",
              "\t<tr><td>671</td><td>5464</td><td>3.0</td><td>1064891549</td></tr>\n",
              "\t<tr><td>671</td><td>5669</td><td>4.0</td><td>1063502711</td></tr>\n",
              "\t<tr><td>671</td><td>5816</td><td>4.0</td><td>1065111963</td></tr>\n",
              "\t<tr><td>671</td><td>5902</td><td>3.5</td><td>1064245507</td></tr>\n",
              "\t<tr><td>671</td><td>5952</td><td>5.0</td><td>1063502716</td></tr>\n",
              "\t<tr><td>671</td><td>5989</td><td>4.0</td><td>1064890625</td></tr>\n",
              "\t<tr><td>671</td><td>5991</td><td>4.5</td><td>1064245387</td></tr>\n",
              "\t<tr><td>671</td><td>5995</td><td>4.0</td><td>1066793014</td></tr>\n",
              "\t<tr><td>671</td><td>6212</td><td>2.5</td><td>1065149436</td></tr>\n",
              "\t<tr><td>671</td><td>6268</td><td>2.5</td><td>1065579370</td></tr>\n",
              "\t<tr><td>671</td><td>6269</td><td>4.0</td><td>1065149201</td></tr>\n",
              "\t<tr><td>671</td><td>6365</td><td>4.0</td><td>1070940363</td></tr>\n",
              "\t<tr><td>671</td><td>6385</td><td>2.5</td><td>1070979663</td></tr>\n",
              "\t<tr><td>671</td><td>6565</td><td>3.5</td><td>1074784724</td></tr>\n",
              "</tbody>\n",
              "</table>\n"
            ]
          },
          "metadata": {
            "tags": []
          }
        }
      ]
    },
    {
      "cell_type": "markdown",
      "metadata": {
        "id": "YlwMcsFOU3Sz",
        "colab_type": "text"
      },
      "source": [
        "### Subtract 1 from the user ID and movie ID"
      ]
    },
    {
      "cell_type": "code",
      "metadata": {
        "id": "b8BRdJooFMGE",
        "colab_type": "code",
        "colab": {}
      },
      "source": [
        "ratings <- ratings %>% mutate(userId = -1 + as.numeric(factor(userId)),\n",
        "                              movieId = -1 + as.numeric(factor(movieId)))"
      ],
      "execution_count": 0,
      "outputs": []
    },
    {
      "cell_type": "code",
      "metadata": {
        "id": "Bl_huI5fJpAI",
        "colab_type": "code",
        "colab": {
          "base_uri": "https://localhost:8080/",
          "height": 1000
        },
        "outputId": "90ce2ed6-81d0-412c-c2ab-0af8fca853e2"
      },
      "source": [
        "ratings"
      ],
      "execution_count": 9,
      "outputs": [
        {
          "output_type": "display_data",
          "data": {
            "text/plain": [
              "       userId movieId rating timestamp \n",
              "1      0        30    2.5    1260759144\n",
              "2      0       833    3.0    1260759179\n",
              "3      0       859    3.0    1260759182\n",
              "4      0       906    2.0    1260759185\n",
              "5      0       931    4.0    1260759205\n",
              "6      0      1017    2.0    1260759151\n",
              "7      0      1041    2.0    1260759187\n",
              "8      0      1047    2.0    1260759148\n",
              "9      0      1083    3.5    1260759125\n",
              "10     0      1087    2.0    1260759131\n",
              "11     0      1111    2.5    1260759135\n",
              "12     0      1140    1.0    1260759203\n",
              "13     0      1515    4.0    1260759191\n",
              "14     0      1665    4.0    1260759139\n",
              "15     0      1708    3.0    1260759194\n",
              "16     0      1743    2.0    1260759198\n",
              "17     0      1815    2.0    1260759108\n",
              "18     0      1962    2.5    1260759113\n",
              "19     0      2380    1.0    1260759200\n",
              "20     0      2925    3.0    1260759117\n",
              "21     1         9    4.0     835355493\n",
              "22     1        16    5.0     835355681\n",
              "23     1        37    5.0     835355604\n",
              "24     1        45    4.0     835355552\n",
              "25     1        48    4.0     835355586\n",
              "26     1        49    3.0     835356031\n",
              "27     1        58    3.0     835355749\n",
              "28     1       100    4.0     835355532\n",
              "29     1       123    3.0     835356016\n",
              "30     1       129    5.0     835355395\n",
              "⋮      ⋮      ⋮       ⋮      ⋮         \n",
              "99975  670    3233    4.5    1064245493\n",
              "99976  670    3419    5.0    1064245548\n",
              "99977  670    3420    3.5    1065111985\n",
              "99978  670    3800    4.0    1065111973\n",
              "99979  670    3803    5.0    1064245488\n",
              "99980  670    3810    5.0    1065111996\n",
              "99981  670    3845    4.5    1065111855\n",
              "99982  670    3854    4.5    1064245471\n",
              "99983  670    3869    5.0    1064245483\n",
              "99984  670    3871    4.0    1064891537\n",
              "99985  670    3882    2.0    1066793004\n",
              "99986  670    3999    2.0    1065111990\n",
              "99987  670    4051    3.0    1065112004\n",
              "99988  670    4081    4.0    1065111863\n",
              "99989  670    4098    4.0    1064245557\n",
              "99990  670    4135    4.5    1064891627\n",
              "99991  670    4147    3.0    1064891549\n",
              "99992  670    4255    4.0    1063502711\n",
              "99993  670    4321    4.0    1065111963\n",
              "99994  670    4367    3.5    1064245507\n",
              "99995  670    4391    5.0    1063502716\n",
              "99996  670    4412    4.0    1064890625\n",
              "99997  670    4413    4.5    1064245387\n",
              "99998  670    4417    4.0    1066793014\n",
              "99999  670    4507    2.5    1065149436\n",
              "100000 670    4545    2.5    1065579370\n",
              "100001 670    4546    4.0    1065149201\n",
              "100002 670    4597    4.0    1070940363\n",
              "100003 670    4610    2.5    1070979663\n",
              "100004 670    4696    3.5    1074784724"
            ],
            "text/latex": "A data.frame: 100004 × 4\n\\begin{tabular}{r|llll}\n userId & movieId & rating & timestamp\\\\\n <dbl> & <dbl> & <dbl> & <int>\\\\\n\\hline\n\t 0 &   30 & 2.5 & 1260759144\\\\\n\t 0 &  833 & 3.0 & 1260759179\\\\\n\t 0 &  859 & 3.0 & 1260759182\\\\\n\t 0 &  906 & 2.0 & 1260759185\\\\\n\t 0 &  931 & 4.0 & 1260759205\\\\\n\t 0 & 1017 & 2.0 & 1260759151\\\\\n\t 0 & 1041 & 2.0 & 1260759187\\\\\n\t 0 & 1047 & 2.0 & 1260759148\\\\\n\t 0 & 1083 & 3.5 & 1260759125\\\\\n\t 0 & 1087 & 2.0 & 1260759131\\\\\n\t 0 & 1111 & 2.5 & 1260759135\\\\\n\t 0 & 1140 & 1.0 & 1260759203\\\\\n\t 0 & 1515 & 4.0 & 1260759191\\\\\n\t 0 & 1665 & 4.0 & 1260759139\\\\\n\t 0 & 1708 & 3.0 & 1260759194\\\\\n\t 0 & 1743 & 2.0 & 1260759198\\\\\n\t 0 & 1815 & 2.0 & 1260759108\\\\\n\t 0 & 1962 & 2.5 & 1260759113\\\\\n\t 0 & 2380 & 1.0 & 1260759200\\\\\n\t 0 & 2925 & 3.0 & 1260759117\\\\\n\t 1 &    9 & 4.0 &  835355493\\\\\n\t 1 &   16 & 5.0 &  835355681\\\\\n\t 1 &   37 & 5.0 &  835355604\\\\\n\t 1 &   45 & 4.0 &  835355552\\\\\n\t 1 &   48 & 4.0 &  835355586\\\\\n\t 1 &   49 & 3.0 &  835356031\\\\\n\t 1 &   58 & 3.0 &  835355749\\\\\n\t 1 &  100 & 4.0 &  835355532\\\\\n\t 1 &  123 & 3.0 &  835356016\\\\\n\t 1 &  129 & 5.0 &  835355395\\\\\n\t ⋮ & ⋮ & ⋮ & ⋮\\\\\n\t 670 & 3233 & 4.5 & 1064245493\\\\\n\t 670 & 3419 & 5.0 & 1064245548\\\\\n\t 670 & 3420 & 3.5 & 1065111985\\\\\n\t 670 & 3800 & 4.0 & 1065111973\\\\\n\t 670 & 3803 & 5.0 & 1064245488\\\\\n\t 670 & 3810 & 5.0 & 1065111996\\\\\n\t 670 & 3845 & 4.5 & 1065111855\\\\\n\t 670 & 3854 & 4.5 & 1064245471\\\\\n\t 670 & 3869 & 5.0 & 1064245483\\\\\n\t 670 & 3871 & 4.0 & 1064891537\\\\\n\t 670 & 3882 & 2.0 & 1066793004\\\\\n\t 670 & 3999 & 2.0 & 1065111990\\\\\n\t 670 & 4051 & 3.0 & 1065112004\\\\\n\t 670 & 4081 & 4.0 & 1065111863\\\\\n\t 670 & 4098 & 4.0 & 1064245557\\\\\n\t 670 & 4135 & 4.5 & 1064891627\\\\\n\t 670 & 4147 & 3.0 & 1064891549\\\\\n\t 670 & 4255 & 4.0 & 1063502711\\\\\n\t 670 & 4321 & 4.0 & 1065111963\\\\\n\t 670 & 4367 & 3.5 & 1064245507\\\\\n\t 670 & 4391 & 5.0 & 1063502716\\\\\n\t 670 & 4412 & 4.0 & 1064890625\\\\\n\t 670 & 4413 & 4.5 & 1064245387\\\\\n\t 670 & 4417 & 4.0 & 1066793014\\\\\n\t 670 & 4507 & 2.5 & 1065149436\\\\\n\t 670 & 4545 & 2.5 & 1065579370\\\\\n\t 670 & 4546 & 4.0 & 1065149201\\\\\n\t 670 & 4597 & 4.0 & 1070940363\\\\\n\t 670 & 4610 & 2.5 & 1070979663\\\\\n\t 670 & 4696 & 3.5 & 1074784724\\\\\n\\end{tabular}\n",
            "text/markdown": "\nA data.frame: 100004 × 4\n\n| userId &lt;dbl&gt; | movieId &lt;dbl&gt; | rating &lt;dbl&gt; | timestamp &lt;int&gt; |\n|---|---|---|---|\n| 0 |   30 | 2.5 | 1260759144 |\n| 0 |  833 | 3.0 | 1260759179 |\n| 0 |  859 | 3.0 | 1260759182 |\n| 0 |  906 | 2.0 | 1260759185 |\n| 0 |  931 | 4.0 | 1260759205 |\n| 0 | 1017 | 2.0 | 1260759151 |\n| 0 | 1041 | 2.0 | 1260759187 |\n| 0 | 1047 | 2.0 | 1260759148 |\n| 0 | 1083 | 3.5 | 1260759125 |\n| 0 | 1087 | 2.0 | 1260759131 |\n| 0 | 1111 | 2.5 | 1260759135 |\n| 0 | 1140 | 1.0 | 1260759203 |\n| 0 | 1515 | 4.0 | 1260759191 |\n| 0 | 1665 | 4.0 | 1260759139 |\n| 0 | 1708 | 3.0 | 1260759194 |\n| 0 | 1743 | 2.0 | 1260759198 |\n| 0 | 1815 | 2.0 | 1260759108 |\n| 0 | 1962 | 2.5 | 1260759113 |\n| 0 | 2380 | 1.0 | 1260759200 |\n| 0 | 2925 | 3.0 | 1260759117 |\n| 1 |    9 | 4.0 |  835355493 |\n| 1 |   16 | 5.0 |  835355681 |\n| 1 |   37 | 5.0 |  835355604 |\n| 1 |   45 | 4.0 |  835355552 |\n| 1 |   48 | 4.0 |  835355586 |\n| 1 |   49 | 3.0 |  835356031 |\n| 1 |   58 | 3.0 |  835355749 |\n| 1 |  100 | 4.0 |  835355532 |\n| 1 |  123 | 3.0 |  835356016 |\n| 1 |  129 | 5.0 |  835355395 |\n| ⋮ | ⋮ | ⋮ | ⋮ |\n| 670 | 3233 | 4.5 | 1064245493 |\n| 670 | 3419 | 5.0 | 1064245548 |\n| 670 | 3420 | 3.5 | 1065111985 |\n| 670 | 3800 | 4.0 | 1065111973 |\n| 670 | 3803 | 5.0 | 1064245488 |\n| 670 | 3810 | 5.0 | 1065111996 |\n| 670 | 3845 | 4.5 | 1065111855 |\n| 670 | 3854 | 4.5 | 1064245471 |\n| 670 | 3869 | 5.0 | 1064245483 |\n| 670 | 3871 | 4.0 | 1064891537 |\n| 670 | 3882 | 2.0 | 1066793004 |\n| 670 | 3999 | 2.0 | 1065111990 |\n| 670 | 4051 | 3.0 | 1065112004 |\n| 670 | 4081 | 4.0 | 1065111863 |\n| 670 | 4098 | 4.0 | 1064245557 |\n| 670 | 4135 | 4.5 | 1064891627 |\n| 670 | 4147 | 3.0 | 1064891549 |\n| 670 | 4255 | 4.0 | 1063502711 |\n| 670 | 4321 | 4.0 | 1065111963 |\n| 670 | 4367 | 3.5 | 1064245507 |\n| 670 | 4391 | 5.0 | 1063502716 |\n| 670 | 4412 | 4.0 | 1064890625 |\n| 670 | 4413 | 4.5 | 1064245387 |\n| 670 | 4417 | 4.0 | 1066793014 |\n| 670 | 4507 | 2.5 | 1065149436 |\n| 670 | 4545 | 2.5 | 1065579370 |\n| 670 | 4546 | 4.0 | 1065149201 |\n| 670 | 4597 | 4.0 | 1070940363 |\n| 670 | 4610 | 2.5 | 1070979663 |\n| 670 | 4696 | 3.5 | 1074784724 |\n\n",
            "text/html": [
              "<table>\n",
              "<caption>A data.frame: 100004 × 4</caption>\n",
              "<thead>\n",
              "\t<tr><th scope=col>userId</th><th scope=col>movieId</th><th scope=col>rating</th><th scope=col>timestamp</th></tr>\n",
              "\t<tr><th scope=col>&lt;dbl&gt;</th><th scope=col>&lt;dbl&gt;</th><th scope=col>&lt;dbl&gt;</th><th scope=col>&lt;int&gt;</th></tr>\n",
              "</thead>\n",
              "<tbody>\n",
              "\t<tr><td>0</td><td>  30</td><td>2.5</td><td>1260759144</td></tr>\n",
              "\t<tr><td>0</td><td> 833</td><td>3.0</td><td>1260759179</td></tr>\n",
              "\t<tr><td>0</td><td> 859</td><td>3.0</td><td>1260759182</td></tr>\n",
              "\t<tr><td>0</td><td> 906</td><td>2.0</td><td>1260759185</td></tr>\n",
              "\t<tr><td>0</td><td> 931</td><td>4.0</td><td>1260759205</td></tr>\n",
              "\t<tr><td>0</td><td>1017</td><td>2.0</td><td>1260759151</td></tr>\n",
              "\t<tr><td>0</td><td>1041</td><td>2.0</td><td>1260759187</td></tr>\n",
              "\t<tr><td>0</td><td>1047</td><td>2.0</td><td>1260759148</td></tr>\n",
              "\t<tr><td>0</td><td>1083</td><td>3.5</td><td>1260759125</td></tr>\n",
              "\t<tr><td>0</td><td>1087</td><td>2.0</td><td>1260759131</td></tr>\n",
              "\t<tr><td>0</td><td>1111</td><td>2.5</td><td>1260759135</td></tr>\n",
              "\t<tr><td>0</td><td>1140</td><td>1.0</td><td>1260759203</td></tr>\n",
              "\t<tr><td>0</td><td>1515</td><td>4.0</td><td>1260759191</td></tr>\n",
              "\t<tr><td>0</td><td>1665</td><td>4.0</td><td>1260759139</td></tr>\n",
              "\t<tr><td>0</td><td>1708</td><td>3.0</td><td>1260759194</td></tr>\n",
              "\t<tr><td>0</td><td>1743</td><td>2.0</td><td>1260759198</td></tr>\n",
              "\t<tr><td>0</td><td>1815</td><td>2.0</td><td>1260759108</td></tr>\n",
              "\t<tr><td>0</td><td>1962</td><td>2.5</td><td>1260759113</td></tr>\n",
              "\t<tr><td>0</td><td>2380</td><td>1.0</td><td>1260759200</td></tr>\n",
              "\t<tr><td>0</td><td>2925</td><td>3.0</td><td>1260759117</td></tr>\n",
              "\t<tr><td>1</td><td>   9</td><td>4.0</td><td> 835355493</td></tr>\n",
              "\t<tr><td>1</td><td>  16</td><td>5.0</td><td> 835355681</td></tr>\n",
              "\t<tr><td>1</td><td>  37</td><td>5.0</td><td> 835355604</td></tr>\n",
              "\t<tr><td>1</td><td>  45</td><td>4.0</td><td> 835355552</td></tr>\n",
              "\t<tr><td>1</td><td>  48</td><td>4.0</td><td> 835355586</td></tr>\n",
              "\t<tr><td>1</td><td>  49</td><td>3.0</td><td> 835356031</td></tr>\n",
              "\t<tr><td>1</td><td>  58</td><td>3.0</td><td> 835355749</td></tr>\n",
              "\t<tr><td>1</td><td> 100</td><td>4.0</td><td> 835355532</td></tr>\n",
              "\t<tr><td>1</td><td> 123</td><td>3.0</td><td> 835356016</td></tr>\n",
              "\t<tr><td>1</td><td> 129</td><td>5.0</td><td> 835355395</td></tr>\n",
              "\t<tr><td>⋮</td><td>⋮</td><td>⋮</td><td>⋮</td></tr>\n",
              "\t<tr><td>670</td><td>3233</td><td>4.5</td><td>1064245493</td></tr>\n",
              "\t<tr><td>670</td><td>3419</td><td>5.0</td><td>1064245548</td></tr>\n",
              "\t<tr><td>670</td><td>3420</td><td>3.5</td><td>1065111985</td></tr>\n",
              "\t<tr><td>670</td><td>3800</td><td>4.0</td><td>1065111973</td></tr>\n",
              "\t<tr><td>670</td><td>3803</td><td>5.0</td><td>1064245488</td></tr>\n",
              "\t<tr><td>670</td><td>3810</td><td>5.0</td><td>1065111996</td></tr>\n",
              "\t<tr><td>670</td><td>3845</td><td>4.5</td><td>1065111855</td></tr>\n",
              "\t<tr><td>670</td><td>3854</td><td>4.5</td><td>1064245471</td></tr>\n",
              "\t<tr><td>670</td><td>3869</td><td>5.0</td><td>1064245483</td></tr>\n",
              "\t<tr><td>670</td><td>3871</td><td>4.0</td><td>1064891537</td></tr>\n",
              "\t<tr><td>670</td><td>3882</td><td>2.0</td><td>1066793004</td></tr>\n",
              "\t<tr><td>670</td><td>3999</td><td>2.0</td><td>1065111990</td></tr>\n",
              "\t<tr><td>670</td><td>4051</td><td>3.0</td><td>1065112004</td></tr>\n",
              "\t<tr><td>670</td><td>4081</td><td>4.0</td><td>1065111863</td></tr>\n",
              "\t<tr><td>670</td><td>4098</td><td>4.0</td><td>1064245557</td></tr>\n",
              "\t<tr><td>670</td><td>4135</td><td>4.5</td><td>1064891627</td></tr>\n",
              "\t<tr><td>670</td><td>4147</td><td>3.0</td><td>1064891549</td></tr>\n",
              "\t<tr><td>670</td><td>4255</td><td>4.0</td><td>1063502711</td></tr>\n",
              "\t<tr><td>670</td><td>4321</td><td>4.0</td><td>1065111963</td></tr>\n",
              "\t<tr><td>670</td><td>4367</td><td>3.5</td><td>1064245507</td></tr>\n",
              "\t<tr><td>670</td><td>4391</td><td>5.0</td><td>1063502716</td></tr>\n",
              "\t<tr><td>670</td><td>4412</td><td>4.0</td><td>1064890625</td></tr>\n",
              "\t<tr><td>670</td><td>4413</td><td>4.5</td><td>1064245387</td></tr>\n",
              "\t<tr><td>670</td><td>4417</td><td>4.0</td><td>1066793014</td></tr>\n",
              "\t<tr><td>670</td><td>4507</td><td>2.5</td><td>1065149436</td></tr>\n",
              "\t<tr><td>670</td><td>4545</td><td>2.5</td><td>1065579370</td></tr>\n",
              "\t<tr><td>670</td><td>4546</td><td>4.0</td><td>1065149201</td></tr>\n",
              "\t<tr><td>670</td><td>4597</td><td>4.0</td><td>1070940363</td></tr>\n",
              "\t<tr><td>670</td><td>4610</td><td>2.5</td><td>1070979663</td></tr>\n",
              "\t<tr><td>670</td><td>4696</td><td>3.5</td><td>1074784724</td></tr>\n",
              "</tbody>\n",
              "</table>\n"
            ]
          },
          "metadata": {
            "tags": []
          }
        }
      ]
    },
    {
      "cell_type": "markdown",
      "metadata": {
        "id": "wSLz6D_RKGWf",
        "colab_type": "text"
      },
      "source": [
        "### Set the number of users and movies"
      ]
    },
    {
      "cell_type": "code",
      "metadata": {
        "id": "NxgrwuALJ9RG",
        "colab_type": "code",
        "colab": {}
      },
      "source": [
        "n_users <- length(unique(ratings$userId))\n",
        "n_movies <- length(unique(ratings$movieId))"
      ],
      "execution_count": 0,
      "outputs": []
    },
    {
      "cell_type": "code",
      "metadata": {
        "id": "GJmXwZyOKG1P",
        "colab_type": "code",
        "colab": {
          "base_uri": "https://localhost:8080/",
          "height": 35
        },
        "outputId": "25fcd5f3-98bd-4846-a37f-f19d3e856152"
      },
      "source": [
        "n_users"
      ],
      "execution_count": 25,
      "outputs": [
        {
          "output_type": "display_data",
          "data": {
            "text/plain": [
              "[1] 671"
            ],
            "text/latex": "671",
            "text/markdown": "671",
            "text/html": [
              "671"
            ]
          },
          "metadata": {
            "tags": []
          }
        }
      ]
    },
    {
      "cell_type": "code",
      "metadata": {
        "id": "XVcswKNjKH3K",
        "colab_type": "code",
        "colab": {
          "base_uri": "https://localhost:8080/",
          "height": 35
        },
        "outputId": "7428429d-1b31-433a-b81f-40f13008cb70"
      },
      "source": [
        "n_movies"
      ],
      "execution_count": 14,
      "outputs": [
        {
          "output_type": "display_data",
          "data": {
            "text/plain": [
              "[1] 9066"
            ],
            "text/latex": "9066",
            "text/markdown": "9066",
            "text/html": [
              "9066"
            ]
          },
          "metadata": {
            "tags": []
          }
        }
      ]
    },
    {
      "cell_type": "markdown",
      "metadata": {
        "id": "7s6Yi6__KK9Q",
        "colab_type": "text"
      },
      "source": [
        "### Choose the number of dimensions to use in each embedding"
      ]
    },
    {
      "cell_type": "code",
      "metadata": {
        "id": "yc1lRviwKIcc",
        "colab_type": "code",
        "colab": {}
      },
      "source": [
        "n_factors <- 50"
      ],
      "execution_count": 0,
      "outputs": []
    },
    {
      "cell_type": "markdown",
      "metadata": {
        "id": "NkYv6hCBU_Pv",
        "colab_type": "text"
      },
      "source": [
        "### Split the data into training and testing\n",
        "\n",
        "Randomly assign 80% of the ratings to the training data and keep the remaining 20% aside as test data."
      ]
    },
    {
      "cell_type": "code",
      "metadata": {
        "id": "CswsnGGDKLTo",
        "colab_type": "code",
        "colab": {}
      },
      "source": [
        "train_indicator <- (runif(nrow(ratings)) < 0.8)\n",
        "training_ratings <- ratings[train_indicator,]\n",
        "test_ratings <- ratings[-train_indicator,]"
      ],
      "execution_count": 0,
      "outputs": []
    },
    {
      "cell_type": "markdown",
      "metadata": {
        "id": "NwQoIYBNUsRL",
        "colab_type": "text"
      },
      "source": [
        "### A note on the Keras Function API\n",
        "\n",
        "The functional API enables one to create more complex models than the ones which can be created using Sequential models. For instance, the functional API allows one to create a model which multiple inputs and outputs.\n",
        "\n",
        "With the functional API the main architecture is defined by the `keras_model` class. This takes in inputs and outputs. Further information here: https://keras.rstudio.com/reference/keras_model.html\n",
        "\n",
        "We can then define the inputs and outputs separately and then bring everything together.\n",
        "\n",
        "We will begin by defining two input layers and then one output layer, finally we bring all three of these together using `keras_model`.\n",
        "\n",
        "Further information: https://keras.rstudio.com/articles/functional_api.html\n",
        "\n",
        "### Define two inputs layers\n",
        "\n",
        "Below we create two inputs layers, one for the user and one for the movie. These are created separately.\n",
        "\n",
        "We specify the shape of our input layers for user and movie embeddings. These are just a single value, representing the index of the user or movie."
      ]
    },
    {
      "cell_type": "code",
      "metadata": {
        "id": "jmiJBC3qKOGV",
        "colab_type": "code",
        "colab": {}
      },
      "source": [
        "user_in <- layer_input(shape = c(1), dtype = 'int64', name = 'user_in')\n",
        "movie_in <- layer_input(shape = c(1), dtype = 'int64', name = 'movie_in')"
      ],
      "execution_count": 0,
      "outputs": []
    },
    {
      "cell_type": "markdown",
      "metadata": {
        "id": "bA7b30dLbbvx",
        "colab_type": "text"
      },
      "source": [
        "### Define two embedding layers (which connect to the two inputs)\n",
        "\n",
        "Next we define two separate embeddings layers, one which takes the user input and the other takes the movie input.\n",
        "\n",
        "The user embedding will be have dimension *n_users* x *n_factors*\n",
        "\n",
        "The movie embedding will be have dimension *n_movies* x *n_factors*\n",
        "\n",
        "In both cases there is only a single value input.\n",
        "\n",
        "### Question: how many parameters will there be in the user and movie embedding layers? How would each embedding layer roughly look like if you had to draw a simple representation of it?\n"
      ]
    },
    {
      "cell_type": "code",
      "metadata": {
        "id": "YlXRydzZKTCB",
        "colab_type": "code",
        "colab": {}
      },
      "source": [
        "user_emb <- user_in %>% layer_embedding(input_dim = n_users, output_dim = n_factors, input_length = 1)\n",
        "movie_emb <- movie_in %>% layer_embedding(input_dim = n_movies, output_dim = n_factors, input_length = 1)"
      ],
      "execution_count": 0,
      "outputs": []
    },
    {
      "cell_type": "markdown",
      "metadata": {
        "id": "bNtdB56NKpL1",
        "colab_type": "text"
      },
      "source": [
        "### Define one output layer\n",
        "\n",
        "We now \"combine\" the embeddings and then proceed as usual.\n",
        "\n",
        "To combine the embeddings we simply concatenate the embeddings and then flatten that."
      ]
    },
    {
      "cell_type": "code",
      "metadata": {
        "id": "kn0jkrA-KVb6",
        "colab_type": "code",
        "colab": {}
      },
      "source": [
        "predictions <- layer_concatenate(c(user_emb, movie_emb)) %>%\n",
        "  layer_flatten() %>% \n",
        "  layer_dropout(0.3) %>%\n",
        "  layer_dense(70, activation='relu') %>% \n",
        "  layer_dropout(0.75) %>%\n",
        "  layer_dense(1)"
      ],
      "execution_count": 0,
      "outputs": []
    },
    {
      "cell_type": "markdown",
      "metadata": {
        "id": "I9JQbIc2KrpK",
        "colab_type": "text"
      },
      "source": [
        "### Create the Model\n",
        "\n",
        "Now that we have created the two inputs and one output, we can go ahead and create the final model which links everything together.\n",
        "\n",
        "We added all the complexities to the input and outputs - so combining everything is simplier in terms of code."
      ]
    },
    {
      "cell_type": "code",
      "metadata": {
        "id": "m_KalxkQKpyt",
        "colab_type": "code",
        "colab": {}
      },
      "source": [
        "model <- keras_model(c(user_in, movie_in), predictions)"
      ],
      "execution_count": 0,
      "outputs": []
    },
    {
      "cell_type": "markdown",
      "metadata": {
        "id": "egx_-0iyflk8",
        "colab_type": "text"
      },
      "source": [
        "### Print out a summary of the model\n",
        "\n",
        "Notice how there are two inputs which are both followed by an embedding layer. Then notice how the embeddings are concatenated together (each had 50 dimensions which results in a final shape of 100)."
      ]
    },
    {
      "cell_type": "code",
      "metadata": {
        "id": "_-bsEU__KsKY",
        "colab_type": "code",
        "colab": {
          "base_uri": "https://localhost:8080/",
          "height": 518
        },
        "outputId": "396c05df-8c09-4f02-bb20-0e447504c769"
      },
      "source": [
        "summary(model)"
      ],
      "execution_count": 23,
      "outputs": [
        {
          "output_type": "stream",
          "text": [
            "Model: \"model\"\n",
            "________________________________________________________________________________\n",
            "Layer (type)              Output Shape      Param #  Connected to               \n",
            "================================================================================\n",
            "user_in (InputLayer)      [(None, 1)]       0                                   \n",
            "________________________________________________________________________________\n",
            "movie_in (InputLayer)     [(None, 1)]       0                                   \n",
            "________________________________________________________________________________\n",
            "embedding (Embedding)     (None, 1, 50)     33550    user_in[0][0]              \n",
            "________________________________________________________________________________\n",
            "embedding_1 (Embedding)   (None, 1, 50)     453300   movie_in[0][0]             \n",
            "________________________________________________________________________________\n",
            "concatenate (Concatenate) (None, 1, 100)    0        embedding[0][0]            \n",
            "                                                     embedding_1[0][0]          \n",
            "________________________________________________________________________________\n",
            "flatten (Flatten)         (None, 100)       0        concatenate[0][0]          \n",
            "________________________________________________________________________________\n",
            "dropout (Dropout)         (None, 100)       0        flatten[0][0]              \n",
            "________________________________________________________________________________\n",
            "dense (Dense)             (None, 70)        7070     dropout[0][0]              \n",
            "________________________________________________________________________________\n",
            "dropout_1 (Dropout)       (None, 70)        0        dense[0][0]                \n",
            "________________________________________________________________________________\n",
            "dense_1 (Dense)           (None, 1)         71       dropout_1[0][0]            \n",
            "================================================================================\n",
            "Total params: 493,991\n",
            "Trainable params: 493,991\n",
            "Non-trainable params: 0\n",
            "________________________________________________________________________________\n"
          ],
          "name": "stdout"
        }
      ]
    },
    {
      "cell_type": "markdown",
      "metadata": {
        "id": "520raGHWcIpE",
        "colab_type": "text"
      },
      "source": [
        "### Question: Can you roughly draw what the network looks like given this information?"
      ]
    },
    {
      "cell_type": "markdown",
      "metadata": {
        "id": "A48o0qitgD2W",
        "colab_type": "text"
      },
      "source": [
        "### Compile\n",
        "\n",
        "Just like before, nothing new here"
      ]
    },
    {
      "cell_type": "code",
      "metadata": {
        "id": "MCYfbe55KyRh",
        "colab_type": "code",
        "colab": {}
      },
      "source": [
        "model %>% compile(optimizer='Adam', loss='mse')"
      ],
      "execution_count": 0,
      "outputs": []
    },
    {
      "cell_type": "markdown",
      "metadata": {
        "id": "Ws5RUPAvZwRh",
        "colab_type": "text"
      },
      "source": [
        "### What data do we input into the NN?\n",
        "\n",
        "In our network we specified that there are two inputs, one for the user id and the other for the movie id. Let's create a list which contains these two data arrays and check the dimension."
      ]
    },
    {
      "cell_type": "code",
      "metadata": {
        "id": "mexuM259ZwYW",
        "colab_type": "code",
        "colab": {
          "base_uri": "https://localhost:8080/",
          "height": 128
        },
        "outputId": "8720b77c-dda8-41e3-daf8-7de81cde8a79"
      },
      "source": [
        "x_train = as.matrix(list(training_ratings$userId, training_ratings$movieId))\n",
        "y_train = as.matrix(training_ratings$rating)\n",
        "dim(x_train)\n",
        "dim(y_train)"
      ],
      "execution_count": 29,
      "outputs": [
        {
          "output_type": "display_data",
          "data": {
            "text/plain": [
              "[1] 2 1"
            ],
            "text/latex": "\\begin{enumerate*}\n\\item 2\n\\item 1\n\\end{enumerate*}\n",
            "text/markdown": "1. 2\n2. 1\n\n\n",
            "text/html": [
              "<ol class=list-inline>\n",
              "\t<li>2</li>\n",
              "\t<li>1</li>\n",
              "</ol>\n"
            ]
          },
          "metadata": {
            "tags": []
          }
        },
        {
          "output_type": "display_data",
          "data": {
            "text/plain": [
              "[1] 79945     1"
            ],
            "text/latex": "\\begin{enumerate*}\n\\item 79945\n\\item 1\n\\end{enumerate*}\n",
            "text/markdown": "1. 79945\n2. 1\n\n\n",
            "text/html": [
              "<ol class=list-inline>\n",
              "\t<li>79945</li>\n",
              "\t<li>1</li>\n",
              "</ol>\n"
            ]
          },
          "metadata": {
            "tags": []
          }
        }
      ]
    },
    {
      "cell_type": "markdown",
      "metadata": {
        "id": "-CQrZYnLgG0A",
        "colab_type": "text"
      },
      "source": [
        "### Fitting the model\n",
        "\n",
        "Very similar to before. We provide the training features, training targets and the number of epochs."
      ]
    },
    {
      "cell_type": "code",
      "metadata": {
        "id": "v9CWJMeogEfw",
        "colab_type": "code",
        "colab": {}
      },
      "source": [
        "model %>% fit(x = x_train, \n",
        "           y = y_train, \n",
        "           batch_size=64, \n",
        "           epoch=2)"
      ],
      "execution_count": 0,
      "outputs": []
    },
    {
      "cell_type": "markdown",
      "metadata": {
        "id": "MqOd87WYbyTm",
        "colab_type": "text"
      },
      "source": [
        "### Evaluate the performance on the test data"
      ]
    },
    {
      "cell_type": "code",
      "metadata": {
        "id": "XHdA4JzPgHbt",
        "colab_type": "code",
        "colab": {
          "base_uri": "https://localhost:8080/",
          "height": 35
        },
        "outputId": "ecf8a366-9e3e-4340-cf97-8d415ce7ee7e"
      },
      "source": [
        "model %>% evaluate(list(test_ratings$userId, test_ratings$movieId), \n",
        "                test_ratings$rating)"
      ],
      "execution_count": 31,
      "outputs": [
        {
          "output_type": "display_data",
          "data": {
            "text/plain": [
              "    loss \n",
              "0.816492 "
            ],
            "text/latex": "\\textbf{loss:} 0.816491961987897",
            "text/markdown": "**loss:** 0.816491961987897",
            "text/html": [
              "<strong>loss:</strong> 0.816491961987897"
            ]
          },
          "metadata": {
            "tags": []
          }
        }
      ]
    },
    {
      "cell_type": "markdown",
      "metadata": {
        "id": "eop5wBiNcC49",
        "colab_type": "text"
      },
      "source": [
        "### Predicting on the test data"
      ]
    },
    {
      "cell_type": "code",
      "metadata": {
        "id": "L98z-m9Tb3D8",
        "colab_type": "code",
        "colab": {
          "base_uri": "https://localhost:8080/",
          "height": 1000
        },
        "outputId": "5832d4a6-babd-480c-b385-78aa8a39bb1d"
      },
      "source": [
        "model %>% predict(list(test_ratings$userId, test_ratings$movieId))"
      ],
      "execution_count": 32,
      "outputs": [
        {
          "output_type": "display_data",
          "data": {
            "text/plain": [
              "      [,1]    \n",
              " [1,] 2.762176\n",
              " [2,] 2.772403\n",
              " [3,] 2.720495\n",
              " [4,] 3.235361\n",
              " [5,] 2.967207\n",
              " [6,] 3.095442\n",
              " [7,] 3.469285\n",
              " [8,] 2.555620\n",
              " [9,] 2.921433\n",
              "[10,] 2.446158\n",
              "[11,] 2.536856\n",
              "[12,] 3.191094\n",
              "[13,] 2.624173\n",
              "[14,] 2.770309\n",
              "[15,] 2.540069\n",
              "[16,] 2.540284\n",
              "[17,] 2.672637\n",
              "[18,] 2.887334\n",
              "[19,] 3.144178\n",
              "[20,] 3.011766\n",
              "[21,] 3.465394\n",
              "[22,] 3.319611\n",
              "[23,] 3.607963\n",
              "[24,] 3.966753\n",
              "[25,] 3.213663\n",
              "[26,] 3.218195\n",
              "[27,] 3.510823\n",
              "[28,] 2.988635\n",
              "[29,] 3.678280\n",
              "[30,] 2.689901\n",
              "[31,] ⋮       \n",
              "[32,] 3.711343\n",
              "[33,] 3.550042\n",
              "[34,] 3.503872\n",
              "[35,] 3.824633\n",
              "[36,] 3.515944\n",
              "[37,] 3.287794\n",
              "[38,] 3.604024\n",
              "[39,] 4.077317\n",
              "[40,] 3.800506\n",
              "[41,] 3.674448\n",
              "[42,] 3.599893\n",
              "[43,] 3.288465\n",
              "[44,] 3.495148\n",
              "[45,] 3.270891\n",
              "[46,] 3.593923\n",
              "[47,] 3.536046\n",
              "[48,] 3.114785\n",
              "[49,] 3.685534\n",
              "[50,] 3.524370\n",
              "[51,] 3.485542\n",
              "[52,] 3.724306\n",
              "[53,] 3.575385\n",
              "[54,] 3.359997\n",
              "[55,] 3.822520\n",
              "[56,] 2.753296\n",
              "[57,] 2.808293\n",
              "[58,] 3.698336\n",
              "[59,] 3.179067\n",
              "[60,] 3.214847\n",
              "[61,] 3.522092"
            ],
            "text/latex": "A matrix: 100003 × 1 of type dbl\n\\begin{tabular}{l}\n\t 2.762176\\\\\n\t 2.772403\\\\\n\t 2.720495\\\\\n\t 3.235361\\\\\n\t 2.967207\\\\\n\t 3.095442\\\\\n\t 3.469285\\\\\n\t 2.555620\\\\\n\t 2.921433\\\\\n\t 2.446158\\\\\n\t 2.536856\\\\\n\t 3.191094\\\\\n\t 2.624173\\\\\n\t 2.770309\\\\\n\t 2.540069\\\\\n\t 2.540284\\\\\n\t 2.672637\\\\\n\t 2.887334\\\\\n\t 3.144178\\\\\n\t 3.011766\\\\\n\t 3.465394\\\\\n\t 3.319611\\\\\n\t 3.607963\\\\\n\t 3.966753\\\\\n\t 3.213663\\\\\n\t 3.218195\\\\\n\t 3.510823\\\\\n\t 2.988635\\\\\n\t 3.678280\\\\\n\t 2.689901\\\\\n\t ⋮\\\\\n\t 3.711343\\\\\n\t 3.550042\\\\\n\t 3.503872\\\\\n\t 3.824633\\\\\n\t 3.515944\\\\\n\t 3.287794\\\\\n\t 3.604024\\\\\n\t 4.077317\\\\\n\t 3.800506\\\\\n\t 3.674448\\\\\n\t 3.599893\\\\\n\t 3.288465\\\\\n\t 3.495148\\\\\n\t 3.270891\\\\\n\t 3.593923\\\\\n\t 3.536046\\\\\n\t 3.114785\\\\\n\t 3.685534\\\\\n\t 3.524370\\\\\n\t 3.485542\\\\\n\t 3.724306\\\\\n\t 3.575385\\\\\n\t 3.359997\\\\\n\t 3.822520\\\\\n\t 2.753296\\\\\n\t 2.808293\\\\\n\t 3.698336\\\\\n\t 3.179067\\\\\n\t 3.214847\\\\\n\t 3.522092\\\\\n\\end{tabular}\n",
            "text/markdown": "\nA matrix: 100003 × 1 of type dbl\n\n| 2.762176 |\n| 2.772403 |\n| 2.720495 |\n| 3.235361 |\n| 2.967207 |\n| 3.095442 |\n| 3.469285 |\n| 2.555620 |\n| 2.921433 |\n| 2.446158 |\n| 2.536856 |\n| 3.191094 |\n| 2.624173 |\n| 2.770309 |\n| 2.540069 |\n| 2.540284 |\n| 2.672637 |\n| 2.887334 |\n| 3.144178 |\n| 3.011766 |\n| 3.465394 |\n| 3.319611 |\n| 3.607963 |\n| 3.966753 |\n| 3.213663 |\n| 3.218195 |\n| 3.510823 |\n| 2.988635 |\n| 3.678280 |\n| 2.689901 |\n| ⋮ |\n| 3.711343 |\n| 3.550042 |\n| 3.503872 |\n| 3.824633 |\n| 3.515944 |\n| 3.287794 |\n| 3.604024 |\n| 4.077317 |\n| 3.800506 |\n| 3.674448 |\n| 3.599893 |\n| 3.288465 |\n| 3.495148 |\n| 3.270891 |\n| 3.593923 |\n| 3.536046 |\n| 3.114785 |\n| 3.685534 |\n| 3.524370 |\n| 3.485542 |\n| 3.724306 |\n| 3.575385 |\n| 3.359997 |\n| 3.822520 |\n| 2.753296 |\n| 2.808293 |\n| 3.698336 |\n| 3.179067 |\n| 3.214847 |\n| 3.522092 |\n\n",
            "text/html": [
              "<table>\n",
              "<caption>A matrix: 100003 × 1 of type dbl</caption>\n",
              "<tbody>\n",
              "\t<tr><td>2.762176</td></tr>\n",
              "\t<tr><td>2.772403</td></tr>\n",
              "\t<tr><td>2.720495</td></tr>\n",
              "\t<tr><td>3.235361</td></tr>\n",
              "\t<tr><td>2.967207</td></tr>\n",
              "\t<tr><td>3.095442</td></tr>\n",
              "\t<tr><td>3.469285</td></tr>\n",
              "\t<tr><td>2.555620</td></tr>\n",
              "\t<tr><td>2.921433</td></tr>\n",
              "\t<tr><td>2.446158</td></tr>\n",
              "\t<tr><td>2.536856</td></tr>\n",
              "\t<tr><td>3.191094</td></tr>\n",
              "\t<tr><td>2.624173</td></tr>\n",
              "\t<tr><td>2.770309</td></tr>\n",
              "\t<tr><td>2.540069</td></tr>\n",
              "\t<tr><td>2.540284</td></tr>\n",
              "\t<tr><td>2.672637</td></tr>\n",
              "\t<tr><td>2.887334</td></tr>\n",
              "\t<tr><td>3.144178</td></tr>\n",
              "\t<tr><td>3.011766</td></tr>\n",
              "\t<tr><td>3.465394</td></tr>\n",
              "\t<tr><td>3.319611</td></tr>\n",
              "\t<tr><td>3.607963</td></tr>\n",
              "\t<tr><td>3.966753</td></tr>\n",
              "\t<tr><td>3.213663</td></tr>\n",
              "\t<tr><td>3.218195</td></tr>\n",
              "\t<tr><td>3.510823</td></tr>\n",
              "\t<tr><td>2.988635</td></tr>\n",
              "\t<tr><td>3.678280</td></tr>\n",
              "\t<tr><td>2.689901</td></tr>\n",
              "\t<tr><td>⋮</td></tr>\n",
              "\t<tr><td>3.711343</td></tr>\n",
              "\t<tr><td>3.550042</td></tr>\n",
              "\t<tr><td>3.503872</td></tr>\n",
              "\t<tr><td>3.824633</td></tr>\n",
              "\t<tr><td>3.515944</td></tr>\n",
              "\t<tr><td>3.287794</td></tr>\n",
              "\t<tr><td>3.604024</td></tr>\n",
              "\t<tr><td>4.077317</td></tr>\n",
              "\t<tr><td>3.800506</td></tr>\n",
              "\t<tr><td>3.674448</td></tr>\n",
              "\t<tr><td>3.599893</td></tr>\n",
              "\t<tr><td>3.288465</td></tr>\n",
              "\t<tr><td>3.495148</td></tr>\n",
              "\t<tr><td>3.270891</td></tr>\n",
              "\t<tr><td>3.593923</td></tr>\n",
              "\t<tr><td>3.536046</td></tr>\n",
              "\t<tr><td>3.114785</td></tr>\n",
              "\t<tr><td>3.685534</td></tr>\n",
              "\t<tr><td>3.524370</td></tr>\n",
              "\t<tr><td>3.485542</td></tr>\n",
              "\t<tr><td>3.724306</td></tr>\n",
              "\t<tr><td>3.575385</td></tr>\n",
              "\t<tr><td>3.359997</td></tr>\n",
              "\t<tr><td>3.822520</td></tr>\n",
              "\t<tr><td>2.753296</td></tr>\n",
              "\t<tr><td>2.808293</td></tr>\n",
              "\t<tr><td>3.698336</td></tr>\n",
              "\t<tr><td>3.179067</td></tr>\n",
              "\t<tr><td>3.214847</td></tr>\n",
              "\t<tr><td>3.522092</td></tr>\n",
              "</tbody>\n",
              "</table>\n"
            ]
          },
          "metadata": {
            "tags": []
          }
        }
      ]
    },
    {
      "cell_type": "code",
      "metadata": {
        "id": "BolJzyCncA6t",
        "colab_type": "code",
        "colab": {}
      },
      "source": [
        ""
      ],
      "execution_count": 0,
      "outputs": []
    }
  ]
}